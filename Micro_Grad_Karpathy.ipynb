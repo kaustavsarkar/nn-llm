{
  "nbformat": 4,
  "nbformat_minor": 0,
  "metadata": {
    "colab": {
      "provenance": [],
      "authorship_tag": "ABX9TyPlsfOjjs4hIBm6ZSYnCZc0",
      "include_colab_link": true
    },
    "kernelspec": {
      "name": "python3",
      "display_name": "Python 3"
    },
    "language_info": {
      "name": "python"
    }
  },
  "cells": [
    {
      "cell_type": "markdown",
      "metadata": {
        "id": "view-in-github",
        "colab_type": "text"
      },
      "source": [
        "<a href=\"https://colab.research.google.com/github/kaustavsarkar/nn-llm/blob/main/Micro_Grad_Karpathy.ipynb\" target=\"_parent\"><img src=\"https://colab.research.google.com/assets/colab-badge.svg\" alt=\"Open In Colab\"/></a>"
      ]
    },
    {
      "cell_type": "code",
      "execution_count": null,
      "metadata": {
        "id": "aeOt7S7Gaf8K"
      },
      "outputs": [],
      "source": [
        "import math\n",
        "import numpy as np\n",
        "import matplotlib.pyplot as plt\n",
        "from graphviz import Digraph\n",
        "%matplotlib inline"
      ]
    },
    {
      "cell_type": "code",
      "source": [
        "class Value:\n",
        "\n",
        "  def __init__ (self, data, _children = (), _op = '', label = ''):\n",
        "    self.data = data\n",
        "    self._children = _children\n",
        "    self._op = _op\n",
        "    self.label = label\n",
        "    self.grad = 0.0\n",
        "    self._backward = lambda: None\n",
        "\n",
        "  def __repr__(self) -> str:\n",
        "    return f\"Value(data={self.data})\"\n",
        "\n",
        "  def __add__(self, other):\n",
        "    other = other if isinstance(other, Value) else Value(other)\n",
        "    out = Value(self.data + other.data, (self, other), '+')\n",
        "\n",
        "    def _backward():\n",
        "      self.grad += 1.0 * out.grad\n",
        "      other.grad += 1.0 * out.grad\n",
        "    out._backward = _backward\n",
        "    return out\n",
        "\n",
        "  def __mul__(self, other):\n",
        "    other = other if isinstance(other, Value) else Value(other)\n",
        "    out = Value(self.data * other.data, (self, other), '*')\n",
        "\n",
        "    def _backward():\n",
        "      self.grad += other.data * out.grad\n",
        "      other.grad += self.data * out.grad\n",
        "    out._backward = _backward\n",
        "    return out\n",
        "\n",
        "  def __rmul__(self, other):\n",
        "    return self * other\n",
        "\n",
        "  def __truediv__(self, other):\n",
        "    return self * other**-1\n",
        "\n",
        "  def __neg__(self):\n",
        "    return self * -1\n",
        "\n",
        "  def __sub__(self, other):\n",
        "    return self + (-other)\n",
        "\n",
        "  def __pow__(self, other):\n",
        "    assert isinstance(other, (int, float)), \"only supporting int/float powers for now\"\n",
        "    out = Value(self.data**other, (self, ), f'**{other}')\n",
        "\n",
        "    def _backward():\n",
        "      self.grad += (other * self.data**(other - 1)) * out.grad\n",
        "    out._backward = _backward\n",
        "    return out\n",
        "\n",
        "  def tanh(self):\n",
        "    x = self.data\n",
        "    t = (math.exp(2*x) - 1)/(math.exp(2*x) + 1)\n",
        "    out = Value(t, (self, ), 'tanh')\n",
        "\n",
        "    def _backward():\n",
        "      self.grad += (1 - t**2) * out.grad\n",
        "    out._backward = _backward\n",
        "    return out\n",
        "\n",
        "  def exp(self):\n",
        "    x = self.data\n",
        "    out = Value(math.exp(x), (self, ), 'exp')\n",
        "\n",
        "    def _backward():\n",
        "      self.grad += out.data * out.grad\n",
        "    out._backward = _backward\n",
        "    return out\n",
        "\n",
        "  def backward(self):\n",
        "    topo = []\n",
        "    visited = set()\n",
        "    def build_topo(v):\n",
        "      if v not in visited:\n",
        "        visited.add(v)\n",
        "        for child in v._children:\n",
        "          build_topo(child)\n",
        "        topo.append(v)\n",
        "    build_topo(self)\n",
        "\n",
        "    self.grad = 1.0\n",
        "    for node in reversed(topo):\n",
        "      node._backward()"
      ],
      "metadata": {
        "id": "q20PGWAGeVDM"
      },
      "execution_count": null,
      "outputs": []
    },
    {
      "cell_type": "code",
      "source": [
        "def trace(root):\n",
        "  # builds a set of all nodes and edges in a graph.\n",
        "  nodes, edges = set(), set()\n",
        "  def build(v):\n",
        "    if v not in nodes:\n",
        "      nodes.add(v)\n",
        "      for child in v._children:\n",
        "        edges.add((child, v))\n",
        "        build(child)\n",
        "  build(root)\n",
        "  return nodes, edges\n",
        "\n",
        "def draw_dot(root):\n",
        "  dot = Digraph(format='svg', graph_attr={'rankdir': 'LR'}) # LR = left to right\n",
        "\n",
        "  nodes, edges = trace(root)\n",
        "  for n in nodes:\n",
        "    uid = str(id(n))\n",
        "    # for any value in the graph, create a rectangular record node for it.\n",
        "    dot.node(name = uid, label = \"{ %s | data %.4f | grad %.4f }\" % (n.label,n.data, n.grad), shape='record')\n",
        "    if n._op:\n",
        "      # if this value is a result of some operation, create an op node for it.\n",
        "      dot.node(name = uid + n._op, label = n._op)\n",
        "      # and connect this node to it\n",
        "      dot.edge(uid + n._op, uid)\n",
        "\n",
        "  for n1, n2 in edges:\n",
        "    # connect n1 to the op node of n2\n",
        "    dot.edge(str(id(n1)), str(id(n2)) + n2._op)\n",
        "\n",
        "  return dot"
      ],
      "metadata": {
        "id": "bqz_iuq2fuUX"
      },
      "execution_count": null,
      "outputs": []
    },
    {
      "cell_type": "code",
      "source": [
        "h = 0.01\n",
        "\n",
        "a = Value(2.0, label='a')\n",
        "b = Value(3.0, label='b')\n",
        "c = Value(4.0, label='c')\n",
        "c._children\n",
        "e = a*b; e.label='e'\n",
        "d = e + c; d.label='d'\n",
        "f = Value(-2.0, label='f')\n",
        "L = d * f; L.label='L'\n",
        "L.grad = 1.0\n",
        "d.grad = -2.0\n",
        "f.grad = 11.0\n",
        "c.grad = -2.0\n",
        "e.grad = -2.0\n",
        "b.grad = -2*2\n",
        "a.grad = 3*2\n",
        "\n",
        "draw_dot(L)"
      ],
      "metadata": {
        "colab": {
          "base_uri": "https://localhost:8080/",
          "height": 212
        },
        "id": "fw2wUGcjfZYk",
        "outputId": "73196296-4d9b-48c6-90be-398e46e2711d"
      },
      "execution_count": null,
      "outputs": [
        {
          "output_type": "execute_result",
          "data": {
            "image/svg+xml": "<?xml version=\"1.0\" encoding=\"UTF-8\" standalone=\"no\"?>\n<!DOCTYPE svg PUBLIC \"-//W3C//DTD SVG 1.1//EN\"\n \"http://www.w3.org/Graphics/SVG/1.1/DTD/svg11.dtd\">\n<!-- Generated by graphviz version 2.43.0 (0)\n -->\n<!-- Title: %3 Pages: 1 -->\n<svg width=\"1159pt\" height=\"128pt\"\n viewBox=\"0.00 0.00 1159.00 128.00\" xmlns=\"http://www.w3.org/2000/svg\" xmlns:xlink=\"http://www.w3.org/1999/xlink\">\n<g id=\"graph0\" class=\"graph\" transform=\"scale(1 1) rotate(0) translate(4 124)\">\n<title>%3</title>\n<polygon fill=\"white\" stroke=\"transparent\" points=\"-4,4 -4,-124 1155,-124 1155,4 -4,4\"/>\n<!-- 132222977028656 -->\n<g id=\"node1\" class=\"node\">\n<title>132222977028656</title>\n<polygon fill=\"none\" stroke=\"black\" points=\"315,-83.5 315,-119.5 504,-119.5 504,-83.5 315,-83.5\"/>\n<text text-anchor=\"middle\" x=\"326.5\" y=\"-97.8\" font-family=\"Times,serif\" font-size=\"14.00\">c</text>\n<polyline fill=\"none\" stroke=\"black\" points=\"338,-83.5 338,-119.5 \"/>\n<text text-anchor=\"middle\" x=\"378\" y=\"-97.8\" font-family=\"Times,serif\" font-size=\"14.00\">data 4.0000</text>\n<polyline fill=\"none\" stroke=\"black\" points=\"418,-83.5 418,-119.5 \"/>\n<text text-anchor=\"middle\" x=\"461\" y=\"-97.8\" font-family=\"Times,serif\" font-size=\"14.00\">grad &#45;2.0000</text>\n</g>\n<!-- 132222977025488+ -->\n<g id=\"node10\" class=\"node\">\n<title>132222977025488+</title>\n<ellipse fill=\"none\" stroke=\"black\" cx=\"567\" cy=\"-73.5\" rx=\"27\" ry=\"18\"/>\n<text text-anchor=\"middle\" x=\"567\" y=\"-69.8\" font-family=\"Times,serif\" font-size=\"14.00\">+</text>\n</g>\n<!-- 132222977028656&#45;&gt;132222977025488+ -->\n<g id=\"edge8\" class=\"edge\">\n<title>132222977028656&#45;&gt;132222977025488+</title>\n<path fill=\"none\" stroke=\"black\" d=\"M504.1,-84.65C513.4,-82.97 522.38,-81.35 530.49,-79.89\"/>\n<polygon fill=\"black\" stroke=\"black\" points=\"531.37,-83.29 540.59,-78.07 530.13,-76.4 531.37,-83.29\"/>\n</g>\n<!-- 132222977022512 -->\n<g id=\"node2\" class=\"node\">\n<title>132222977022512</title>\n<polygon fill=\"none\" stroke=\"black\" points=\"630.5,-0.5 630.5,-36.5 825.5,-36.5 825.5,-0.5 630.5,-0.5\"/>\n<text text-anchor=\"middle\" x=\"641\" y=\"-14.8\" font-family=\"Times,serif\" font-size=\"14.00\">f</text>\n<polyline fill=\"none\" stroke=\"black\" points=\"651.5,-0.5 651.5,-36.5 \"/>\n<text text-anchor=\"middle\" x=\"694\" y=\"-14.8\" font-family=\"Times,serif\" font-size=\"14.00\">data &#45;2.0000</text>\n<polyline fill=\"none\" stroke=\"black\" points=\"736.5,-0.5 736.5,-36.5 \"/>\n<text text-anchor=\"middle\" x=\"781\" y=\"-14.8\" font-family=\"Times,serif\" font-size=\"14.00\">grad 11.0000</text>\n</g>\n<!-- 132222976397088* -->\n<g id=\"node6\" class=\"node\">\n<title>132222976397088*</title>\n<ellipse fill=\"none\" stroke=\"black\" cx=\"889\" cy=\"-45.5\" rx=\"27\" ry=\"18\"/>\n<text text-anchor=\"middle\" x=\"889\" y=\"-41.8\" font-family=\"Times,serif\" font-size=\"14.00\">*</text>\n</g>\n<!-- 132222977022512&#45;&gt;132222976397088* -->\n<g id=\"edge6\" class=\"edge\">\n<title>132222977022512&#45;&gt;132222976397088*</title>\n<path fill=\"none\" stroke=\"black\" d=\"M825.62,-34.91C835.22,-36.54 844.47,-38.11 852.77,-39.52\"/>\n<polygon fill=\"black\" stroke=\"black\" points=\"852.3,-42.99 862.74,-41.21 853.47,-36.09 852.3,-42.99\"/>\n</g>\n<!-- 132222977020496 -->\n<g id=\"node3\" class=\"node\">\n<title>132222977020496</title>\n<polygon fill=\"none\" stroke=\"black\" points=\"2,-56.5 2,-92.5 187,-92.5 187,-56.5 2,-56.5\"/>\n<text text-anchor=\"middle\" x=\"13.5\" y=\"-70.8\" font-family=\"Times,serif\" font-size=\"14.00\">a</text>\n<polyline fill=\"none\" stroke=\"black\" points=\"25,-56.5 25,-92.5 \"/>\n<text text-anchor=\"middle\" x=\"65\" y=\"-70.8\" font-family=\"Times,serif\" font-size=\"14.00\">data 2.0000</text>\n<polyline fill=\"none\" stroke=\"black\" points=\"105,-56.5 105,-92.5 \"/>\n<text text-anchor=\"middle\" x=\"146\" y=\"-70.8\" font-family=\"Times,serif\" font-size=\"14.00\">grad 6.0000</text>\n</g>\n<!-- 132222977025872* -->\n<g id=\"node8\" class=\"node\">\n<title>132222977025872*</title>\n<ellipse fill=\"none\" stroke=\"black\" cx=\"252\" cy=\"-46.5\" rx=\"27\" ry=\"18\"/>\n<text text-anchor=\"middle\" x=\"252\" y=\"-42.8\" font-family=\"Times,serif\" font-size=\"14.00\">*</text>\n</g>\n<!-- 132222977020496&#45;&gt;132222977025872* -->\n<g id=\"edge9\" class=\"edge\">\n<title>132222977020496&#45;&gt;132222977025872*</title>\n<path fill=\"none\" stroke=\"black\" d=\"M187.3,-57.97C197.31,-56.17 206.99,-54.42 215.66,-52.86\"/>\n<polygon fill=\"black\" stroke=\"black\" points=\"216.46,-56.28 225.69,-51.06 215.22,-49.39 216.46,-56.28\"/>\n</g>\n<!-- 132222977030096 -->\n<g id=\"node4\" class=\"node\">\n<title>132222977030096</title>\n<polygon fill=\"none\" stroke=\"black\" points=\"0,-1.5 0,-37.5 189,-37.5 189,-1.5 0,-1.5\"/>\n<text text-anchor=\"middle\" x=\"11.5\" y=\"-15.8\" font-family=\"Times,serif\" font-size=\"14.00\">b</text>\n<polyline fill=\"none\" stroke=\"black\" points=\"23,-1.5 23,-37.5 \"/>\n<text text-anchor=\"middle\" x=\"63\" y=\"-15.8\" font-family=\"Times,serif\" font-size=\"14.00\">data 3.0000</text>\n<polyline fill=\"none\" stroke=\"black\" points=\"103,-1.5 103,-37.5 \"/>\n<text text-anchor=\"middle\" x=\"146\" y=\"-15.8\" font-family=\"Times,serif\" font-size=\"14.00\">grad &#45;4.0000</text>\n</g>\n<!-- 132222977030096&#45;&gt;132222977025872* -->\n<g id=\"edge7\" class=\"edge\">\n<title>132222977030096&#45;&gt;132222977025872*</title>\n<path fill=\"none\" stroke=\"black\" d=\"M189.1,-35.75C198.4,-37.37 207.38,-38.93 215.49,-40.33\"/>\n<polygon fill=\"black\" stroke=\"black\" points=\"215.14,-43.83 225.59,-42.09 216.34,-36.93 215.14,-43.83\"/>\n</g>\n<!-- 132222976397088 -->\n<g id=\"node5\" class=\"node\">\n<title>132222976397088</title>\n<polygon fill=\"none\" stroke=\"black\" points=\"952,-27.5 952,-63.5 1151,-63.5 1151,-27.5 952,-27.5\"/>\n<text text-anchor=\"middle\" x=\"964.5\" y=\"-41.8\" font-family=\"Times,serif\" font-size=\"14.00\">L</text>\n<polyline fill=\"none\" stroke=\"black\" points=\"977,-27.5 977,-63.5 \"/>\n<text text-anchor=\"middle\" x=\"1023\" y=\"-41.8\" font-family=\"Times,serif\" font-size=\"14.00\">data &#45;20.0000</text>\n<polyline fill=\"none\" stroke=\"black\" points=\"1069,-27.5 1069,-63.5 \"/>\n<text text-anchor=\"middle\" x=\"1110\" y=\"-41.8\" font-family=\"Times,serif\" font-size=\"14.00\">grad 1.0000</text>\n</g>\n<!-- 132222976397088*&#45;&gt;132222976397088 -->\n<g id=\"edge1\" class=\"edge\">\n<title>132222976397088*&#45;&gt;132222976397088</title>\n<path fill=\"none\" stroke=\"black\" d=\"M916.14,-45.5C923.65,-45.5 932.33,-45.5 941.6,-45.5\"/>\n<polygon fill=\"black\" stroke=\"black\" points=\"941.86,-49 951.86,-45.5 941.86,-42 941.86,-49\"/>\n</g>\n<!-- 132222977025872 -->\n<g id=\"node7\" class=\"node\">\n<title>132222977025872</title>\n<polygon fill=\"none\" stroke=\"black\" points=\"315,-28.5 315,-64.5 504,-64.5 504,-28.5 315,-28.5\"/>\n<text text-anchor=\"middle\" x=\"326.5\" y=\"-42.8\" font-family=\"Times,serif\" font-size=\"14.00\">e</text>\n<polyline fill=\"none\" stroke=\"black\" points=\"338,-28.5 338,-64.5 \"/>\n<text text-anchor=\"middle\" x=\"378\" y=\"-42.8\" font-family=\"Times,serif\" font-size=\"14.00\">data 6.0000</text>\n<polyline fill=\"none\" stroke=\"black\" points=\"418,-28.5 418,-64.5 \"/>\n<text text-anchor=\"middle\" x=\"461\" y=\"-42.8\" font-family=\"Times,serif\" font-size=\"14.00\">grad &#45;2.0000</text>\n</g>\n<!-- 132222977025872&#45;&gt;132222977025488+ -->\n<g id=\"edge5\" class=\"edge\">\n<title>132222977025872&#45;&gt;132222977025488+</title>\n<path fill=\"none\" stroke=\"black\" d=\"M504.1,-62.75C513.4,-64.37 522.38,-65.93 530.49,-67.33\"/>\n<polygon fill=\"black\" stroke=\"black\" points=\"530.14,-70.83 540.59,-69.09 531.34,-63.93 530.14,-70.83\"/>\n</g>\n<!-- 132222977025872*&#45;&gt;132222977025872 -->\n<g id=\"edge2\" class=\"edge\">\n<title>132222977025872*&#45;&gt;132222977025872</title>\n<path fill=\"none\" stroke=\"black\" d=\"M279.03,-46.5C286.66,-46.5 295.52,-46.5 304.94,-46.5\"/>\n<polygon fill=\"black\" stroke=\"black\" points=\"304.94,-50 314.94,-46.5 304.94,-43 304.94,-50\"/>\n</g>\n<!-- 132222977025488 -->\n<g id=\"node9\" class=\"node\">\n<title>132222977025488</title>\n<polygon fill=\"none\" stroke=\"black\" points=\"630,-55.5 630,-91.5 826,-91.5 826,-55.5 630,-55.5\"/>\n<text text-anchor=\"middle\" x=\"641.5\" y=\"-69.8\" font-family=\"Times,serif\" font-size=\"14.00\">d</text>\n<polyline fill=\"none\" stroke=\"black\" points=\"653,-55.5 653,-91.5 \"/>\n<text text-anchor=\"middle\" x=\"696.5\" y=\"-69.8\" font-family=\"Times,serif\" font-size=\"14.00\">data 10.0000</text>\n<polyline fill=\"none\" stroke=\"black\" points=\"740,-55.5 740,-91.5 \"/>\n<text text-anchor=\"middle\" x=\"783\" y=\"-69.8\" font-family=\"Times,serif\" font-size=\"14.00\">grad &#45;2.0000</text>\n</g>\n<!-- 132222977025488&#45;&gt;132222976397088* -->\n<g id=\"edge4\" class=\"edge\">\n<title>132222977025488&#45;&gt;132222976397088*</title>\n<path fill=\"none\" stroke=\"black\" d=\"M826.07,-56.41C835.42,-54.76 844.43,-53.17 852.55,-51.74\"/>\n<polygon fill=\"black\" stroke=\"black\" points=\"853.41,-55.15 862.65,-49.96 852.2,-48.25 853.41,-55.15\"/>\n</g>\n<!-- 132222977025488+&#45;&gt;132222977025488 -->\n<g id=\"edge3\" class=\"edge\">\n<title>132222977025488+&#45;&gt;132222977025488</title>\n<path fill=\"none\" stroke=\"black\" d=\"M594.26,-73.5C601.77,-73.5 610.46,-73.5 619.72,-73.5\"/>\n<polygon fill=\"black\" stroke=\"black\" points=\"619.97,-77 629.97,-73.5 619.97,-70 619.97,-77\"/>\n</g>\n</g>\n</svg>\n",
            "text/plain": [
              "<graphviz.graphs.Digraph at 0x7841b1995160>"
            ]
          },
          "metadata": {},
          "execution_count": 78
        }
      ]
    },
    {
      "cell_type": "code",
      "source": [
        "a.data += 0.01*a.grad\n",
        "b.data += 0.01*b.grad\n",
        "c.data += 0.01*c.grad\n",
        "f.data += 0.01*f.grad\n",
        "\n",
        "e = a*b\n",
        "d = e + c\n",
        "L = d * f\n",
        "\n",
        "L.data"
      ],
      "metadata": {
        "colab": {
          "base_uri": "https://localhost:8080/"
        },
        "id": "by8n6IZaphVV",
        "outputId": "f069e661-ef78-4fdb-d357-ea3c78e6f1ac"
      },
      "execution_count": null,
      "outputs": [
        {
          "output_type": "execute_result",
          "data": {
            "text/plain": [
              "-19.046664"
            ]
          },
          "metadata": {},
          "execution_count": 60
        }
      ]
    },
    {
      "cell_type": "code",
      "source": [
        "plt.plot(np.arange(-5, 5, 0.2), np.tanh(np.arange(-5, 5, 0.2))); plt.grid();"
      ],
      "metadata": {
        "colab": {
          "base_uri": "https://localhost:8080/",
          "height": 430
        },
        "id": "_aKuj_ztqbhR",
        "outputId": "ae965266-a9af-4a69-d801-25acdd41bde5"
      },
      "execution_count": null,
      "outputs": [
        {
          "output_type": "display_data",
          "data": {
            "text/plain": [
              "<Figure size 640x480 with 1 Axes>"
            ],
            "image/png": "[encoded data removed]"
          },
          "metadata": {}
        }
      ]
    },
    {
      "cell_type": "code",
      "source": [
        "# inputs x1 and x2\n",
        "x1, x2 = Value(2.0, label='x1'), Value(0.0, label='x2')\n",
        "\n",
        "# weights w1 and w2\n",
        "w1, w2 = Value(-3.0, label='w1'), Value(1.0, label='w2')\n",
        "\n",
        "# bias of the neuron\n",
        "b = Value(6.7, label='b')\n",
        "\n",
        "x1w1 = x1*w1; x1w1.label = 'x1*w1'\n",
        "x2w2 = x2*w2; x2w2.label = 'x2*w2'\n",
        "x1w1x2w2 = x1w1 + x2w2; x1w1x2w2.label = 'x1*w1 + x2*w2'\n",
        "n = x1w1x2w2 + b; n.label = 'n'\n",
        "o = n.tanh(); o.label = 'o'\n",
        "o.grad = 1.0\n",
        "# draw_dot(o)\n",
        "# o._backward()\n",
        "# n._backward()\n",
        "# x1w1x2w2._backward()\n",
        "# x1w1._backward()\n",
        "# x2w2._backward()\n",
        "# x1._backward()\n",
        "# x2._backward()\n",
        "# w1._backward()\n",
        "# w2._backward()\n",
        "# b._backward()\n",
        "o.backward()\n",
        "draw_dot(o)\n"
      ],
      "metadata": {
        "colab": {
          "base_uri": "https://localhost:8080/",
          "height": 321
        },
        "id": "zZFt1Gdatbnv",
        "outputId": "8c0c25fa-695b-489d-de17-6b1828de8581"
      },
      "execution_count": null,
      "outputs": [
        {
          "output_type": "execute_result",
          "data": {
            "image/svg+xml": "<?xml version=\"1.0\" encoding=\"UTF-8\" standalone=\"no\"?>\n<!DOCTYPE svg PUBLIC \"-//W3C//DTD SVG 1.1//EN\"\n \"http://www.w3.org/Graphics/SVG/1.1/DTD/svg11.dtd\">\n<!-- Generated by graphviz version 2.43.0 (0)\n -->\n<!-- Title: %3 Pages: 1 -->\n<svg width=\"1575pt\" height=\"210pt\"\n viewBox=\"0.00 0.00 1575.00 210.00\" xmlns=\"http://www.w3.org/2000/svg\" xmlns:xlink=\"http://www.w3.org/1999/xlink\">\n<g id=\"graph0\" class=\"graph\" transform=\"scale(1 1) rotate(0) translate(4 206)\">\n<title>%3</title>\n<polygon fill=\"white\" stroke=\"transparent\" points=\"-4,4 -4,-206 1571,-206 1571,4 -4,4\"/>\n<!-- 132222976948752 -->\n<g id=\"node1\" class=\"node\">\n<title>132222976948752</title>\n<polygon fill=\"none\" stroke=\"black\" points=\"328.5,-55.5 328.5,-91.5 543.5,-91.5 543.5,-55.5 328.5,-55.5\"/>\n<text text-anchor=\"middle\" x=\"355\" y=\"-69.8\" font-family=\"Times,serif\" font-size=\"14.00\">x2*w2</text>\n<polyline fill=\"none\" stroke=\"black\" points=\"381.5,-55.5 381.5,-91.5 \"/>\n<text text-anchor=\"middle\" x=\"421.5\" y=\"-69.8\" font-family=\"Times,serif\" font-size=\"14.00\">data 0.0000</text>\n<polyline fill=\"none\" stroke=\"black\" points=\"461.5,-55.5 461.5,-91.5 \"/>\n<text text-anchor=\"middle\" x=\"502.5\" y=\"-69.8\" font-family=\"Times,serif\" font-size=\"14.00\">grad 0.6347</text>\n</g>\n<!-- 132222976936656+ -->\n<g id=\"node8\" class=\"node\">\n<title>132222976936656+</title>\n<ellipse fill=\"none\" stroke=\"black\" cx=\"609\" cy=\"-100.5\" rx=\"27\" ry=\"18\"/>\n<text text-anchor=\"middle\" x=\"609\" y=\"-96.8\" font-family=\"Times,serif\" font-size=\"14.00\">+</text>\n</g>\n<!-- 132222976948752&#45;&gt;132222976936656+ -->\n<g id=\"edge7\" class=\"edge\">\n<title>132222976948752&#45;&gt;132222976936656+</title>\n<path fill=\"none\" stroke=\"black\" d=\"M543.84,-90.37C554.01,-91.98 563.76,-93.51 572.44,-94.89\"/>\n<polygon fill=\"black\" stroke=\"black\" points=\"572.05,-98.37 582.47,-96.47 573.14,-91.45 572.05,-98.37\"/>\n</g>\n<!-- 132222976948752* -->\n<g id=\"node2\" class=\"node\">\n<title>132222976948752*</title>\n<ellipse fill=\"none\" stroke=\"black\" cx=\"263\" cy=\"-73.5\" rx=\"27\" ry=\"18\"/>\n<text text-anchor=\"middle\" x=\"263\" y=\"-69.8\" font-family=\"Times,serif\" font-size=\"14.00\">*</text>\n</g>\n<!-- 132222976948752*&#45;&gt;132222976948752 -->\n<g id=\"edge1\" class=\"edge\">\n<title>132222976948752*&#45;&gt;132222976948752</title>\n<path fill=\"none\" stroke=\"black\" d=\"M290.34,-73.5C298.51,-73.5 308.08,-73.5 318.36,-73.5\"/>\n<polygon fill=\"black\" stroke=\"black\" points=\"318.39,-77 328.39,-73.5 318.39,-70 318.39,-77\"/>\n</g>\n<!-- 132222977013808 -->\n<g id=\"node3\" class=\"node\">\n<title>132222977013808</title>\n<polygon fill=\"none\" stroke=\"black\" points=\"0,-165.5 0,-201.5 200,-201.5 200,-165.5 0,-165.5\"/>\n<text text-anchor=\"middle\" x=\"16.5\" y=\"-179.8\" font-family=\"Times,serif\" font-size=\"14.00\">w1</text>\n<polyline fill=\"none\" stroke=\"black\" points=\"33,-165.5 33,-201.5 \"/>\n<text text-anchor=\"middle\" x=\"75.5\" y=\"-179.8\" font-family=\"Times,serif\" font-size=\"14.00\">data &#45;3.0000</text>\n<polyline fill=\"none\" stroke=\"black\" points=\"118,-165.5 118,-201.5 \"/>\n<text text-anchor=\"middle\" x=\"159\" y=\"-179.8\" font-family=\"Times,serif\" font-size=\"14.00\">grad 1.2695</text>\n</g>\n<!-- 132222976950048* -->\n<g id=\"node12\" class=\"node\">\n<title>132222976950048*</title>\n<ellipse fill=\"none\" stroke=\"black\" cx=\"263\" cy=\"-128.5\" rx=\"27\" ry=\"18\"/>\n<text text-anchor=\"middle\" x=\"263\" y=\"-124.8\" font-family=\"Times,serif\" font-size=\"14.00\">*</text>\n</g>\n<!-- 132222977013808&#45;&gt;132222976950048* -->\n<g id=\"edge6\" class=\"edge\">\n<title>132222977013808&#45;&gt;132222976950048*</title>\n<path fill=\"none\" stroke=\"black\" d=\"M172.53,-165.44C181.84,-162.67 191.2,-159.67 200,-156.5 210.53,-152.71 221.75,-147.9 231.72,-143.33\"/>\n<polygon fill=\"black\" stroke=\"black\" points=\"233.25,-146.48 240.82,-139.07 230.28,-140.14 233.25,-146.48\"/>\n</g>\n<!-- 132222976935552 -->\n<g id=\"node4\" class=\"node\">\n<title>132222976935552</title>\n<polygon fill=\"none\" stroke=\"black\" points=\"1382,-109.5 1382,-145.5 1567,-145.5 1567,-109.5 1382,-109.5\"/>\n<text text-anchor=\"middle\" x=\"1393.5\" y=\"-123.8\" font-family=\"Times,serif\" font-size=\"14.00\">o</text>\n<polyline fill=\"none\" stroke=\"black\" points=\"1405,-109.5 1405,-145.5 \"/>\n<text text-anchor=\"middle\" x=\"1445\" y=\"-123.8\" font-family=\"Times,serif\" font-size=\"14.00\">data 0.6044</text>\n<polyline fill=\"none\" stroke=\"black\" points=\"1485,-109.5 1485,-145.5 \"/>\n<text text-anchor=\"middle\" x=\"1526\" y=\"-123.8\" font-family=\"Times,serif\" font-size=\"14.00\">grad 1.0000</text>\n</g>\n<!-- 132222976935552tanh -->\n<g id=\"node5\" class=\"node\">\n<title>132222976935552tanh</title>\n<ellipse fill=\"none\" stroke=\"black\" cx=\"1319\" cy=\"-127.5\" rx=\"27\" ry=\"18\"/>\n<text text-anchor=\"middle\" x=\"1319\" y=\"-123.8\" font-family=\"Times,serif\" font-size=\"14.00\">tanh</text>\n</g>\n<!-- 132222976935552tanh&#45;&gt;132222976935552 -->\n<g id=\"edge2\" class=\"edge\">\n<title>132222976935552tanh&#45;&gt;132222976935552</title>\n<path fill=\"none\" stroke=\"black\" d=\"M1346.04,-127.5C1353.58,-127.5 1362.3,-127.5 1371.57,-127.5\"/>\n<polygon fill=\"black\" stroke=\"black\" points=\"1371.81,-131 1381.81,-127.5 1371.81,-124 1371.81,-131\"/>\n</g>\n<!-- 132222993692288 -->\n<g id=\"node6\" class=\"node\">\n<title>132222993692288</title>\n<polygon fill=\"none\" stroke=\"black\" points=\"716,-137.5 716,-173.5 901,-173.5 901,-137.5 716,-137.5\"/>\n<text text-anchor=\"middle\" x=\"727.5\" y=\"-151.8\" font-family=\"Times,serif\" font-size=\"14.00\">b</text>\n<polyline fill=\"none\" stroke=\"black\" points=\"739,-137.5 739,-173.5 \"/>\n<text text-anchor=\"middle\" x=\"779\" y=\"-151.8\" font-family=\"Times,serif\" font-size=\"14.00\">data 6.7000</text>\n<polyline fill=\"none\" stroke=\"black\" points=\"819,-137.5 819,-173.5 \"/>\n<text text-anchor=\"middle\" x=\"860\" y=\"-151.8\" font-family=\"Times,serif\" font-size=\"14.00\">grad 0.6347</text>\n</g>\n<!-- 132222976939248+ -->\n<g id=\"node10\" class=\"node\">\n<title>132222976939248+</title>\n<ellipse fill=\"none\" stroke=\"black\" cx=\"1008\" cy=\"-127.5\" rx=\"27\" ry=\"18\"/>\n<text text-anchor=\"middle\" x=\"1008\" y=\"-123.8\" font-family=\"Times,serif\" font-size=\"14.00\">+</text>\n</g>\n<!-- 132222993692288&#45;&gt;132222976939248+ -->\n<g id=\"edge12\" class=\"edge\">\n<title>132222993692288&#45;&gt;132222976939248+</title>\n<path fill=\"none\" stroke=\"black\" d=\"M901.02,-142.52C926,-138.98 951.59,-135.36 971.37,-132.55\"/>\n<polygon fill=\"black\" stroke=\"black\" points=\"972.03,-135.99 981.43,-131.12 971.04,-129.06 972.03,-135.99\"/>\n</g>\n<!-- 132222976936656 -->\n<g id=\"node7\" class=\"node\">\n<title>132222976936656</title>\n<polygon fill=\"none\" stroke=\"black\" points=\"672,-82.5 672,-118.5 945,-118.5 945,-82.5 672,-82.5\"/>\n<text text-anchor=\"middle\" x=\"725\" y=\"-96.8\" font-family=\"Times,serif\" font-size=\"14.00\">x1*w1 + x2*w2</text>\n<polyline fill=\"none\" stroke=\"black\" points=\"778,-82.5 778,-118.5 \"/>\n<text text-anchor=\"middle\" x=\"820.5\" y=\"-96.8\" font-family=\"Times,serif\" font-size=\"14.00\">data &#45;6.0000</text>\n<polyline fill=\"none\" stroke=\"black\" points=\"863,-82.5 863,-118.5 \"/>\n<text text-anchor=\"middle\" x=\"904\" y=\"-96.8\" font-family=\"Times,serif\" font-size=\"14.00\">grad 0.6347</text>\n</g>\n<!-- 132222976936656&#45;&gt;132222976939248+ -->\n<g id=\"edge13\" class=\"edge\">\n<title>132222976936656&#45;&gt;132222976939248+</title>\n<path fill=\"none\" stroke=\"black\" d=\"M941.24,-118.51C952.12,-120 962.4,-121.4 971.45,-122.64\"/>\n<polygon fill=\"black\" stroke=\"black\" points=\"971.11,-126.13 981.49,-124.01 972.05,-119.19 971.11,-126.13\"/>\n</g>\n<!-- 132222976936656+&#45;&gt;132222976936656 -->\n<g id=\"edge3\" class=\"edge\">\n<title>132222976936656+&#45;&gt;132222976936656</title>\n<path fill=\"none\" stroke=\"black\" d=\"M636.23,-100.5C643.7,-100.5 652.41,-100.5 661.87,-100.5\"/>\n<polygon fill=\"black\" stroke=\"black\" points=\"661.98,-104 671.98,-100.5 661.98,-97 661.98,-104\"/>\n</g>\n<!-- 132222976939248 -->\n<g id=\"node9\" class=\"node\">\n<title>132222976939248</title>\n<polygon fill=\"none\" stroke=\"black\" points=\"1071,-109.5 1071,-145.5 1256,-145.5 1256,-109.5 1071,-109.5\"/>\n<text text-anchor=\"middle\" x=\"1082.5\" y=\"-123.8\" font-family=\"Times,serif\" font-size=\"14.00\">n</text>\n<polyline fill=\"none\" stroke=\"black\" points=\"1094,-109.5 1094,-145.5 \"/>\n<text text-anchor=\"middle\" x=\"1134\" y=\"-123.8\" font-family=\"Times,serif\" font-size=\"14.00\">data 0.7000</text>\n<polyline fill=\"none\" stroke=\"black\" points=\"1174,-109.5 1174,-145.5 \"/>\n<text text-anchor=\"middle\" x=\"1215\" y=\"-123.8\" font-family=\"Times,serif\" font-size=\"14.00\">grad 0.6347</text>\n</g>\n<!-- 132222976939248&#45;&gt;132222976935552tanh -->\n<g id=\"edge14\" class=\"edge\">\n<title>132222976939248&#45;&gt;132222976935552tanh</title>\n<path fill=\"none\" stroke=\"black\" d=\"M1256.01,-127.5C1265.01,-127.5 1273.74,-127.5 1281.66,-127.5\"/>\n<polygon fill=\"black\" stroke=\"black\" points=\"1281.91,-131 1291.91,-127.5 1281.91,-124 1281.91,-131\"/>\n</g>\n<!-- 132222976939248+&#45;&gt;132222976939248 -->\n<g id=\"edge4\" class=\"edge\">\n<title>132222976939248+&#45;&gt;132222976939248</title>\n<path fill=\"none\" stroke=\"black\" d=\"M1035.04,-127.5C1042.58,-127.5 1051.3,-127.5 1060.57,-127.5\"/>\n<polygon fill=\"black\" stroke=\"black\" points=\"1060.81,-131 1070.81,-127.5 1060.81,-124 1060.81,-131\"/>\n</g>\n<!-- 132222976950048 -->\n<g id=\"node11\" class=\"node\">\n<title>132222976950048</title>\n<polygon fill=\"none\" stroke=\"black\" points=\"326,-110.5 326,-146.5 546,-146.5 546,-110.5 326,-110.5\"/>\n<text text-anchor=\"middle\" x=\"352.5\" y=\"-124.8\" font-family=\"Times,serif\" font-size=\"14.00\">x1*w1</text>\n<polyline fill=\"none\" stroke=\"black\" points=\"379,-110.5 379,-146.5 \"/>\n<text text-anchor=\"middle\" x=\"421.5\" y=\"-124.8\" font-family=\"Times,serif\" font-size=\"14.00\">data &#45;6.0000</text>\n<polyline fill=\"none\" stroke=\"black\" points=\"464,-110.5 464,-146.5 \"/>\n<text text-anchor=\"middle\" x=\"505\" y=\"-124.8\" font-family=\"Times,serif\" font-size=\"14.00\">grad 0.6347</text>\n</g>\n<!-- 132222976950048&#45;&gt;132222976936656+ -->\n<g id=\"edge10\" class=\"edge\">\n<title>132222976950048&#45;&gt;132222976936656+</title>\n<path fill=\"none\" stroke=\"black\" d=\"M546.27,-110.61C555.64,-109.07 564.6,-107.61 572.65,-106.29\"/>\n<polygon fill=\"black\" stroke=\"black\" points=\"573.35,-109.72 582.65,-104.65 572.22,-102.81 573.35,-109.72\"/>\n</g>\n<!-- 132222976950048*&#45;&gt;132222976950048 -->\n<g id=\"edge5\" class=\"edge\">\n<title>132222976950048*&#45;&gt;132222976950048</title>\n<path fill=\"none\" stroke=\"black\" d=\"M290.34,-128.5C297.77,-128.5 306.37,-128.5 315.6,-128.5\"/>\n<polygon fill=\"black\" stroke=\"black\" points=\"315.84,-132 325.84,-128.5 315.84,-125 315.84,-132\"/>\n</g>\n<!-- 132222977014624 -->\n<g id=\"node13\" class=\"node\">\n<title>132222977014624</title>\n<polygon fill=\"none\" stroke=\"black\" points=\"2,-110.5 2,-146.5 198,-146.5 198,-110.5 2,-110.5\"/>\n<text text-anchor=\"middle\" x=\"17\" y=\"-124.8\" font-family=\"Times,serif\" font-size=\"14.00\">x1</text>\n<polyline fill=\"none\" stroke=\"black\" points=\"32,-110.5 32,-146.5 \"/>\n<text text-anchor=\"middle\" x=\"72\" y=\"-124.8\" font-family=\"Times,serif\" font-size=\"14.00\">data 2.0000</text>\n<polyline fill=\"none\" stroke=\"black\" points=\"112,-110.5 112,-146.5 \"/>\n<text text-anchor=\"middle\" x=\"155\" y=\"-124.8\" font-family=\"Times,serif\" font-size=\"14.00\">grad &#45;1.9042</text>\n</g>\n<!-- 132222977014624&#45;&gt;132222976950048* -->\n<g id=\"edge8\" class=\"edge\">\n<title>132222977014624&#45;&gt;132222976950048*</title>\n<path fill=\"none\" stroke=\"black\" d=\"M198.37,-128.5C208.05,-128.5 217.4,-128.5 225.8,-128.5\"/>\n<polygon fill=\"black\" stroke=\"black\" points=\"225.91,-132 235.91,-128.5 225.91,-125 225.91,-132\"/>\n</g>\n<!-- 132222997746016 -->\n<g id=\"node14\" class=\"node\">\n<title>132222997746016</title>\n<polygon fill=\"none\" stroke=\"black\" points=\"2.5,-55.5 2.5,-91.5 197.5,-91.5 197.5,-55.5 2.5,-55.5\"/>\n<text text-anchor=\"middle\" x=\"19\" y=\"-69.8\" font-family=\"Times,serif\" font-size=\"14.00\">w2</text>\n<polyline fill=\"none\" stroke=\"black\" points=\"35.5,-55.5 35.5,-91.5 \"/>\n<text text-anchor=\"middle\" x=\"75.5\" y=\"-69.8\" font-family=\"Times,serif\" font-size=\"14.00\">data 1.0000</text>\n<polyline fill=\"none\" stroke=\"black\" points=\"115.5,-55.5 115.5,-91.5 \"/>\n<text text-anchor=\"middle\" x=\"156.5\" y=\"-69.8\" font-family=\"Times,serif\" font-size=\"14.00\">grad 0.0000</text>\n</g>\n<!-- 132222997746016&#45;&gt;132222976948752* -->\n<g id=\"edge9\" class=\"edge\">\n<title>132222997746016&#45;&gt;132222976948752*</title>\n<path fill=\"none\" stroke=\"black\" d=\"M197.91,-73.5C207.65,-73.5 217.05,-73.5 225.52,-73.5\"/>\n<polygon fill=\"black\" stroke=\"black\" points=\"225.7,-77 235.7,-73.5 225.7,-70 225.7,-77\"/>\n</g>\n<!-- 132222977005456 -->\n<g id=\"node15\" class=\"node\">\n<title>132222977005456</title>\n<polygon fill=\"none\" stroke=\"black\" points=\"4,-0.5 4,-36.5 196,-36.5 196,-0.5 4,-0.5\"/>\n<text text-anchor=\"middle\" x=\"19\" y=\"-14.8\" font-family=\"Times,serif\" font-size=\"14.00\">x2</text>\n<polyline fill=\"none\" stroke=\"black\" points=\"34,-0.5 34,-36.5 \"/>\n<text text-anchor=\"middle\" x=\"74\" y=\"-14.8\" font-family=\"Times,serif\" font-size=\"14.00\">data 0.0000</text>\n<polyline fill=\"none\" stroke=\"black\" points=\"114,-0.5 114,-36.5 \"/>\n<text text-anchor=\"middle\" x=\"155\" y=\"-14.8\" font-family=\"Times,serif\" font-size=\"14.00\">grad 0.6347</text>\n</g>\n<!-- 132222977005456&#45;&gt;132222976948752* -->\n<g id=\"edge11\" class=\"edge\">\n<title>132222977005456&#45;&gt;132222976948752*</title>\n<path fill=\"none\" stroke=\"black\" d=\"M169.28,-36.5C179.65,-39.61 190.16,-42.98 200,-46.5 210.28,-50.17 221.28,-54.74 231.11,-59.07\"/>\n<polygon fill=\"black\" stroke=\"black\" points=\"229.93,-62.37 240.48,-63.27 232.79,-55.99 229.93,-62.37\"/>\n</g>\n</g>\n</svg>\n",
            "text/plain": [
              "<graphviz.graphs.Digraph at 0x78418f9264e0>"
            ]
          },
          "metadata": {},
          "execution_count": 86
        }
      ]
    },
    {
      "cell_type": "code",
      "source": [],
      "metadata": {
        "id": "aG92C3Zo4cw7"
      },
      "execution_count": null,
      "outputs": []
    }
  ]
}